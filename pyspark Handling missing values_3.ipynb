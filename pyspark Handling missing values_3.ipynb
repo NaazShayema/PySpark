{
 "cells": [
  {
   "cell_type": "code",
   "execution_count": 17,
   "id": "315e4ec3",
   "metadata": {},
   "outputs": [],
   "source": [
    "from pyspark.sql import SparkSession\n",
    "spark=SparkSession.builder.appName(\"Practise\").getOrCreate()"
   ]
  },
  {
   "cell_type": "code",
   "execution_count": 2,
   "id": "2bbb040b",
   "metadata": {},
   "outputs": [],
   "source": [
    "df_pyspark=spark.read.csv('pyspark_test_data_2.csv',header=True,inferSchema=True)"
   ]
  },
  {
   "cell_type": "code",
   "execution_count": 3,
   "id": "8d6cb350",
   "metadata": {},
   "outputs": [
    {
     "name": "stdout",
     "output_type": "stream",
     "text": [
      "+--------+----+----------+------+\n",
      "|    Name| age|Experience|Salary|\n",
      "+--------+----+----------+------+\n",
      "| Shayema|  22|        10| 30000|\n",
      "|Ehtasham|  19|         8| 25000|\n",
      "| Mosahid|  24|         4| 40000|\n",
      "|  Saheda|  44|         3| 31000|\n",
      "|  Ghulam|  45|        21| 72000|\n",
      "| Mujtaba|   9|         2| 80000|\n",
      "|    Neha|  23|         1| 18000|\n",
      "|    Puja|null|      null| 40000|\n",
      "|    null|  34|        10| 36000|\n",
      "|    null|  35|      null|  null|\n",
      "+--------+----+----------+------+\n",
      "\n"
     ]
    }
   ],
   "source": [
    "df_pyspark.show()"
   ]
  },
  {
   "cell_type": "markdown",
   "id": "d5d90109",
   "metadata": {},
   "source": [
    "# Drop the columns"
   ]
  },
  {
   "cell_type": "code",
   "execution_count": 4,
   "id": "d37ed687",
   "metadata": {},
   "outputs": [
    {
     "name": "stdout",
     "output_type": "stream",
     "text": [
      "+----+----------+------+\n",
      "| age|Experience|Salary|\n",
      "+----+----------+------+\n",
      "|  22|        10| 30000|\n",
      "|  19|         8| 25000|\n",
      "|  24|         4| 40000|\n",
      "|  44|         3| 31000|\n",
      "|  45|        21| 72000|\n",
      "|   9|         2| 80000|\n",
      "|  23|         1| 18000|\n",
      "|null|      null| 40000|\n",
      "|  34|        10| 36000|\n",
      "|  35|      null|  null|\n",
      "+----+----------+------+\n",
      "\n"
     ]
    }
   ],
   "source": [
    "df_pyspark.drop('Name').show()"
   ]
  },
  {
   "cell_type": "code",
   "execution_count": 5,
   "id": "5e6885e0",
   "metadata": {},
   "outputs": [
    {
     "name": "stdout",
     "output_type": "stream",
     "text": [
      "+--------+----+----------+------+\n",
      "|    Name| age|Experience|Salary|\n",
      "+--------+----+----------+------+\n",
      "| Shayema|  22|        10| 30000|\n",
      "|Ehtasham|  19|         8| 25000|\n",
      "| Mosahid|  24|         4| 40000|\n",
      "|  Saheda|  44|         3| 31000|\n",
      "|  Ghulam|  45|        21| 72000|\n",
      "| Mujtaba|   9|         2| 80000|\n",
      "|    Neha|  23|         1| 18000|\n",
      "|    Puja|null|      null| 40000|\n",
      "|    null|  34|        10| 36000|\n",
      "|    null|  35|      null|  null|\n",
      "+--------+----+----------+------+\n",
      "\n"
     ]
    }
   ],
   "source": [
    "df_pyspark.show()"
   ]
  },
  {
   "cell_type": "code",
   "execution_count": 6,
   "id": "0eadc1f9",
   "metadata": {},
   "outputs": [
    {
     "name": "stdout",
     "output_type": "stream",
     "text": [
      "+--------+---+----------+------+\n",
      "|    Name|age|Experience|Salary|\n",
      "+--------+---+----------+------+\n",
      "| Shayema| 22|        10| 30000|\n",
      "|Ehtasham| 19|         8| 25000|\n",
      "| Mosahid| 24|         4| 40000|\n",
      "|  Saheda| 44|         3| 31000|\n",
      "|  Ghulam| 45|        21| 72000|\n",
      "| Mujtaba|  9|         2| 80000|\n",
      "|    Neha| 23|         1| 18000|\n",
      "+--------+---+----------+------+\n",
      "\n"
     ]
    }
   ],
   "source": [
    "df_pyspark.na.drop().show()   # dropping null values"
   ]
  },
  {
   "cell_type": "code",
   "execution_count": 7,
   "id": "3d751bd2",
   "metadata": {},
   "outputs": [
    {
     "name": "stdout",
     "output_type": "stream",
     "text": [
      "+--------+----+----------+------+\n",
      "|    Name| age|Experience|Salary|\n",
      "+--------+----+----------+------+\n",
      "| Shayema|  22|        10| 30000|\n",
      "|Ehtasham|  19|         8| 25000|\n",
      "| Mosahid|  24|         4| 40000|\n",
      "|  Saheda|  44|         3| 31000|\n",
      "|  Ghulam|  45|        21| 72000|\n",
      "| Mujtaba|   9|         2| 80000|\n",
      "|    Neha|  23|         1| 18000|\n",
      "|    Puja|null|      null| 40000|\n",
      "|    null|  34|        10| 36000|\n",
      "|    null|  35|      null|  null|\n",
      "+--------+----+----------+------+\n",
      "\n"
     ]
    }
   ],
   "source": [
    "df_pyspark.na.drop(how=\"all\").show()  # it will drop that row having all null values. Here nothing is all null"
   ]
  },
  {
   "cell_type": "code",
   "execution_count": 8,
   "id": "65860408",
   "metadata": {},
   "outputs": [
    {
     "name": "stdout",
     "output_type": "stream",
     "text": [
      "+--------+---+----------+------+\n",
      "|    Name|age|Experience|Salary|\n",
      "+--------+---+----------+------+\n",
      "| Shayema| 22|        10| 30000|\n",
      "|Ehtasham| 19|         8| 25000|\n",
      "| Mosahid| 24|         4| 40000|\n",
      "|  Saheda| 44|         3| 31000|\n",
      "|  Ghulam| 45|        21| 72000|\n",
      "| Mujtaba|  9|         2| 80000|\n",
      "|    Neha| 23|         1| 18000|\n",
      "+--------+---+----------+------+\n",
      "\n"
     ]
    }
   ],
   "source": [
    "df_pyspark.na.drop(how=\"any\").show()  # it will drop that row having any null values. "
   ]
  },
  {
   "cell_type": "code",
   "execution_count": 9,
   "id": "fdec1fc3",
   "metadata": {},
   "outputs": [
    {
     "name": "stdout",
     "output_type": "stream",
     "text": [
      "+--------+----+----------+------+\n",
      "|    Name| age|Experience|Salary|\n",
      "+--------+----+----------+------+\n",
      "| Shayema|  22|        10| 30000|\n",
      "|Ehtasham|  19|         8| 25000|\n",
      "| Mosahid|  24|         4| 40000|\n",
      "|  Saheda|  44|         3| 31000|\n",
      "|  Ghulam|  45|        21| 72000|\n",
      "| Mujtaba|   9|         2| 80000|\n",
      "|    Neha|  23|         1| 18000|\n",
      "|    Puja|null|      null| 40000|\n",
      "|    null|  34|        10| 36000|\n",
      "+--------+----+----------+------+\n",
      "\n"
     ]
    }
   ],
   "source": [
    "## threshold\n",
    "df_pyspark.na.drop(how=\"any\",thresh=2).show()# all rows should have atleast 2 non-null values. the one that don't have get dropped"
   ]
  },
  {
   "cell_type": "code",
   "execution_count": 10,
   "id": "a2dfc40f",
   "metadata": {},
   "outputs": [
    {
     "name": "stdout",
     "output_type": "stream",
     "text": [
      "+--------+----+----------+------+\n",
      "|    Name| age|Experience|Salary|\n",
      "+--------+----+----------+------+\n",
      "| Shayema|  22|        10| 30000|\n",
      "|Ehtasham|  19|         8| 25000|\n",
      "| Mosahid|  24|         4| 40000|\n",
      "|  Saheda|  44|         3| 31000|\n",
      "|  Ghulam|  45|        21| 72000|\n",
      "| Mujtaba|   9|         2| 80000|\n",
      "|    Neha|  23|         1| 18000|\n",
      "|    Puja|null|      null| 40000|\n",
      "|    null|  34|        10| 36000|\n",
      "|    null|  35|      null|  null|\n",
      "+--------+----+----------+------+\n",
      "\n"
     ]
    }
   ],
   "source": [
    "## threshold\n",
    "df_pyspark.na.drop(how=\"any\",thresh=1).show()# all rows should have atleast 1 non-null values. the one that don't have get dropped"
   ]
  },
  {
   "cell_type": "code",
   "execution_count": 11,
   "id": "c82238d0",
   "metadata": {},
   "outputs": [
    {
     "name": "stdout",
     "output_type": "stream",
     "text": [
      "+--------+---+----------+------+\n",
      "|    Name|age|Experience|Salary|\n",
      "+--------+---+----------+------+\n",
      "| Shayema| 22|        10| 30000|\n",
      "|Ehtasham| 19|         8| 25000|\n",
      "| Mosahid| 24|         4| 40000|\n",
      "|  Saheda| 44|         3| 31000|\n",
      "|  Ghulam| 45|        21| 72000|\n",
      "| Mujtaba|  9|         2| 80000|\n",
      "|    Neha| 23|         1| 18000|\n",
      "|    null| 34|        10| 36000|\n",
      "+--------+---+----------+------+\n",
      "\n"
     ]
    }
   ],
   "source": [
    "## threshold\n",
    "df_pyspark.na.drop(how=\"any\",thresh=3).show()# all rows should have atleast 3 non-null values. the one that don't have get dropped"
   ]
  },
  {
   "cell_type": "code",
   "execution_count": 12,
   "id": "4484e7f8",
   "metadata": {},
   "outputs": [
    {
     "name": "stdout",
     "output_type": "stream",
     "text": [
      "+--------+---+----------+------+\n",
      "|    Name|age|Experience|Salary|\n",
      "+--------+---+----------+------+\n",
      "| Shayema| 22|        10| 30000|\n",
      "|Ehtasham| 19|         8| 25000|\n",
      "| Mosahid| 24|         4| 40000|\n",
      "|  Saheda| 44|         3| 31000|\n",
      "|  Ghulam| 45|        21| 72000|\n",
      "| Mujtaba|  9|         2| 80000|\n",
      "|    Neha| 23|         1| 18000|\n",
      "|    null| 34|        10| 36000|\n",
      "+--------+---+----------+------+\n",
      "\n"
     ]
    }
   ],
   "source": [
    "## subset\n",
    "df_pyspark.na.drop(how=\"any\",subset='Experience').show()  # 'Experience' having any null value gets deletes"
   ]
  },
  {
   "cell_type": "code",
   "execution_count": 13,
   "id": "88102b7c",
   "metadata": {},
   "outputs": [
    {
     "name": "stdout",
     "output_type": "stream",
     "text": [
      "+--------+---+----------+------+\n",
      "|    Name|age|Experience|Salary|\n",
      "+--------+---+----------+------+\n",
      "| Shayema| 22|        10| 30000|\n",
      "|Ehtasham| 19|         8| 25000|\n",
      "| Mosahid| 24|         4| 40000|\n",
      "|  Saheda| 44|         3| 31000|\n",
      "|  Ghulam| 45|        21| 72000|\n",
      "| Mujtaba|  9|         2| 80000|\n",
      "|    Neha| 23|         1| 18000|\n",
      "|    null| 34|        10| 36000|\n",
      "|    null| 35|      null|  null|\n",
      "+--------+---+----------+------+\n",
      "\n"
     ]
    }
   ],
   "source": [
    "## subset\n",
    "df_pyspark.na.drop(how=\"any\",subset='Age').show() "
   ]
  },
  {
   "cell_type": "markdown",
   "id": "42eb81c9",
   "metadata": {},
   "source": [
    "# Filling missing values"
   ]
  },
  {
   "cell_type": "code",
   "execution_count": 14,
   "id": "cc088940",
   "metadata": {},
   "outputs": [
    {
     "name": "stdout",
     "output_type": "stream",
     "text": [
      "+-------------+----+----------+------+\n",
      "|         Name| age|Experience|Salary|\n",
      "+-------------+----+----------+------+\n",
      "|      Shayema|  22|        10| 30000|\n",
      "|     Ehtasham|  19|         8| 25000|\n",
      "|      Mosahid|  24|         4| 40000|\n",
      "|       Saheda|  44|         3| 31000|\n",
      "|       Ghulam|  45|        21| 72000|\n",
      "|      Mujtaba|   9|         2| 80000|\n",
      "|         Neha|  23|         1| 18000|\n",
      "|         Puja|null|      null| 40000|\n",
      "|Missing value|  34|        10| 36000|\n",
      "|Missing value|  35|      null|  null|\n",
      "+-------------+----+----------+------+\n",
      "\n"
     ]
    }
   ],
   "source": [
    "df_pyspark.na.fill('Missing value').show() ### error"
   ]
  },
  {
   "cell_type": "code",
   "execution_count": 15,
   "id": "9d1e2460",
   "metadata": {},
   "outputs": [
    {
     "name": "stdout",
     "output_type": "stream",
     "text": [
      "+--------+----+----------+------+\n",
      "|    Name| age|Experience|Salary|\n",
      "+--------+----+----------+------+\n",
      "| Shayema|  22|        10| 30000|\n",
      "|Ehtasham|  19|         8| 25000|\n",
      "| Mosahid|  24|         4| 40000|\n",
      "|  Saheda|  44|         3| 31000|\n",
      "|  Ghulam|  45|        21| 72000|\n",
      "| Mujtaba|   9|         2| 80000|\n",
      "|    Neha|  23|         1| 18000|\n",
      "|    Puja|null|      null| 40000|\n",
      "|    null|  34|        10| 36000|\n",
      "|    null|  35|      null|  null|\n",
      "+--------+----+----------+------+\n",
      "\n"
     ]
    }
   ],
   "source": [
    "df_pyspark.na.fill('Missing values',['Experience','age']).show()  ## error"
   ]
  },
  {
   "cell_type": "code",
   "execution_count": 18,
   "id": "93e9f384",
   "metadata": {},
   "outputs": [
    {
     "name": "stdout",
     "output_type": "stream",
     "text": [
      "+--------+----+----------+------+\n",
      "|    Name| age|Experience|Salary|\n",
      "+--------+----+----------+------+\n",
      "| Shayema|  22|        10| 30000|\n",
      "|Ehtasham|  19|         8| 25000|\n",
      "| Mosahid|  24|         4| 40000|\n",
      "|  Saheda|  44|         3| 31000|\n",
      "|  Ghulam|  45|        21| 72000|\n",
      "| Mujtaba|   9|         2| 80000|\n",
      "|    Neha|  23|         1| 18000|\n",
      "|    Puja|null|      null| 40000|\n",
      "|    null|  34|        10| 36000|\n",
      "|    null|  35|      null|  null|\n",
      "+--------+----+----------+------+\n",
      "\n"
     ]
    }
   ],
   "source": [
    "df_pyspark.show()"
   ]
  },
  {
   "cell_type": "code",
   "execution_count": 19,
   "id": "2a9933fe",
   "metadata": {},
   "outputs": [],
   "source": [
    "from pyspark.ml.feature import Imputer\n",
    "\n",
    "imputer=Imputer(\n",
    "    inputCols=['age','Experience','Salary'],\n",
    "    outputCols=[\"{}_imputed\".format(c) for c in ['age','Experience','Salary']]\n",
    "    ).setStrategy(\"mean\")"
   ]
  },
  {
   "cell_type": "code",
   "execution_count": 20,
   "id": "1f7bdd5d",
   "metadata": {},
   "outputs": [
    {
     "name": "stdout",
     "output_type": "stream",
     "text": [
      "+--------+----+----------+------+-----------+------------------+--------------+\n",
      "|    Name| age|Experience|Salary|age_imputed|Experience_imputed|Salary_imputed|\n",
      "+--------+----+----------+------+-----------+------------------+--------------+\n",
      "| Shayema|  22|        10| 30000|         22|                10|         30000|\n",
      "|Ehtasham|  19|         8| 25000|         19|                 8|         25000|\n",
      "| Mosahid|  24|         4| 40000|         24|                 4|         40000|\n",
      "|  Saheda|  44|         3| 31000|         44|                 3|         31000|\n",
      "|  Ghulam|  45|        21| 72000|         45|                21|         72000|\n",
      "| Mujtaba|   9|         2| 80000|          9|                 2|         80000|\n",
      "|    Neha|  23|         1| 18000|         23|                 1|         18000|\n",
      "|    Puja|null|      null| 40000|         28|                 7|         40000|\n",
      "|    null|  34|        10| 36000|         34|                10|         36000|\n",
      "|    null|  35|      null|  null|         35|                 7|         41333|\n",
      "+--------+----+----------+------+-----------+------------------+--------------+\n",
      "\n"
     ]
    }
   ],
   "source": [
    "imputer.fit(df_pyspark).transform(df_pyspark).show()   # null value replaced by the mean"
   ]
  },
  {
   "cell_type": "code",
   "execution_count": 21,
   "id": "7a4bb425",
   "metadata": {},
   "outputs": [
    {
     "name": "stdout",
     "output_type": "stream",
     "text": [
      "+--------+----+----------+------+-----------+------------------+--------------+\n",
      "|    Name| age|Experience|Salary|age_imputed|Experience_imputed|Salary_imputed|\n",
      "+--------+----+----------+------+-----------+------------------+--------------+\n",
      "| Shayema|  22|        10| 30000|         22|                10|         30000|\n",
      "|Ehtasham|  19|         8| 25000|         19|                 8|         25000|\n",
      "| Mosahid|  24|         4| 40000|         24|                 4|         40000|\n",
      "|  Saheda|  44|         3| 31000|         44|                 3|         31000|\n",
      "|  Ghulam|  45|        21| 72000|         45|                21|         72000|\n",
      "| Mujtaba|   9|         2| 80000|          9|                 2|         80000|\n",
      "|    Neha|  23|         1| 18000|         23|                 1|         18000|\n",
      "|    Puja|null|      null| 40000|         24|                 4|         40000|\n",
      "|    null|  34|        10| 36000|         34|                10|         36000|\n",
      "|    null|  35|      null|  null|         35|                 4|         36000|\n",
      "+--------+----+----------+------+-----------+------------------+--------------+\n",
      "\n"
     ]
    }
   ],
   "source": [
    "from pyspark.ml.feature import Imputer\n",
    "\n",
    "imputer=Imputer(\n",
    "    inputCols=['age','Experience','Salary'],\n",
    "    outputCols=[\"{}_imputed\".format(c) for c in ['age','Experience','Salary']]\n",
    "    ).setStrategy(\"median\")\n",
    "\n",
    "imputer.fit(df_pyspark).transform(df_pyspark).show()    # null value replaced by the median"
   ]
  },
  {
   "cell_type": "code",
   "execution_count": null,
   "id": "60598db7",
   "metadata": {},
   "outputs": [],
   "source": []
  }
 ],
 "metadata": {
  "kernelspec": {
   "display_name": "Python 3 (ipykernel)",
   "language": "python",
   "name": "python3"
  },
  "language_info": {
   "codemirror_mode": {
    "name": "ipython",
    "version": 3
   },
   "file_extension": ".py",
   "mimetype": "text/x-python",
   "name": "python",
   "nbconvert_exporter": "python",
   "pygments_lexer": "ipython3",
   "version": "3.7.7"
  }
 },
 "nbformat": 4,
 "nbformat_minor": 5
}
